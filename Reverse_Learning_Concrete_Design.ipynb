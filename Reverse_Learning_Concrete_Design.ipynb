{
  "nbformat": 4,
  "nbformat_minor": 0,
  "metadata": {
    "colab": {
      "provenance": []
    },
    "kernelspec": {
      "name": "python3",
      "display_name": "Python 3"
    },
    "language_info": {
      "name": "python"
    }
  },
  "cells": [
    {
      "cell_type": "code",
      "execution_count": null,
      "metadata": {
        "id": "cwN_SIVKa6D-"
      },
      "outputs": [],
      "source": [
        "import numpy as np\n",
        "import pandas as pd\n",
        "import seaborn as sn\n",
        "\n",
        "from sklearn.model_selection import train_test_split\n",
        "from sklearn.metrics import max_error\n",
        "from sklearn.metrics import r2_score\n",
        "\n",
        "from sklearn.ensemble import RandomForestRegressor as rfr"
      ]
    },
    {
      "cell_type": "code",
      "source": [
        "pip install -U pymoo"
      ],
      "metadata": {
        "colab": {
          "base_uri": "https://localhost:8080/"
        },
        "id": "vNj8kGpQJ57u",
        "outputId": "bd217b23-952d-4a80-c38b-f480fd4613b9"
      },
      "execution_count": null,
      "outputs": [
        {
          "output_type": "stream",
          "name": "stdout",
          "text": [
            "Requirement already satisfied: pymoo in /usr/local/lib/python3.10/dist-packages (0.6.0.1)\n",
            "Requirement already satisfied: numpy>=1.15 in /usr/local/lib/python3.10/dist-packages (from pymoo) (1.22.4)\n",
            "Requirement already satisfied: scipy>=1.1 in /usr/local/lib/python3.10/dist-packages (from pymoo) (1.10.1)\n",
            "Requirement already satisfied: matplotlib>=3 in /usr/local/lib/python3.10/dist-packages (from pymoo) (3.7.1)\n",
            "Requirement already satisfied: autograd>=1.4 in /usr/local/lib/python3.10/dist-packages (from pymoo) (1.6.2)\n",
            "Requirement already satisfied: cma==3.2.2 in /usr/local/lib/python3.10/dist-packages (from pymoo) (3.2.2)\n",
            "Requirement already satisfied: alive-progress in /usr/local/lib/python3.10/dist-packages (from pymoo) (3.1.4)\n",
            "Requirement already satisfied: dill in /usr/local/lib/python3.10/dist-packages (from pymoo) (0.3.6)\n",
            "Requirement already satisfied: Deprecated in /usr/local/lib/python3.10/dist-packages (from pymoo) (1.2.14)\n",
            "Requirement already satisfied: future>=0.15.2 in /usr/local/lib/python3.10/dist-packages (from autograd>=1.4->pymoo) (0.18.3)\n",
            "Requirement already satisfied: contourpy>=1.0.1 in /usr/local/lib/python3.10/dist-packages (from matplotlib>=3->pymoo) (1.1.0)\n",
            "Requirement already satisfied: cycler>=0.10 in /usr/local/lib/python3.10/dist-packages (from matplotlib>=3->pymoo) (0.11.0)\n",
            "Requirement already satisfied: fonttools>=4.22.0 in /usr/local/lib/python3.10/dist-packages (from matplotlib>=3->pymoo) (4.40.0)\n",
            "Requirement already satisfied: kiwisolver>=1.0.1 in /usr/local/lib/python3.10/dist-packages (from matplotlib>=3->pymoo) (1.4.4)\n",
            "Requirement already satisfied: packaging>=20.0 in /usr/local/lib/python3.10/dist-packages (from matplotlib>=3->pymoo) (23.1)\n",
            "Requirement already satisfied: pillow>=6.2.0 in /usr/local/lib/python3.10/dist-packages (from matplotlib>=3->pymoo) (8.4.0)\n",
            "Requirement already satisfied: pyparsing>=2.3.1 in /usr/local/lib/python3.10/dist-packages (from matplotlib>=3->pymoo) (3.1.0)\n",
            "Requirement already satisfied: python-dateutil>=2.7 in /usr/local/lib/python3.10/dist-packages (from matplotlib>=3->pymoo) (2.8.2)\n",
            "Requirement already satisfied: about-time==4.2.1 in /usr/local/lib/python3.10/dist-packages (from alive-progress->pymoo) (4.2.1)\n",
            "Requirement already satisfied: grapheme==0.6.0 in /usr/local/lib/python3.10/dist-packages (from alive-progress->pymoo) (0.6.0)\n",
            "Requirement already satisfied: wrapt<2,>=1.10 in /usr/local/lib/python3.10/dist-packages (from Deprecated->pymoo) (1.14.1)\n",
            "Requirement already satisfied: six>=1.5 in /usr/local/lib/python3.10/dist-packages (from python-dateutil>=2.7->matplotlib>=3->pymoo) (1.16.0)\n"
          ]
        }
      ]
    },
    {
      "cell_type": "code",
      "source": [
        "#Evaluaate Performance\n",
        "def test(model1, X_test, y_test):\n",
        "  print(model1)\n",
        "  print(\"\")\n",
        "  r1 = model1.predict(X_test)\n",
        "  print(\"prediction 1:\\n\", r1)\n",
        "\n",
        "  print(\"\")\n",
        "  #Score:\n",
        "  print(\"Score for prediction\")\n",
        "  print(\"R square score:\", r2_score(y_test, r1))\n",
        "  print(\"Max error:\", max_error(y_test, r1))\n",
        "  print(\"\")\n",
        "  print(\"-------------------------------------\")"
      ],
      "metadata": {
        "id": "CglHx-gwdg8E"
      },
      "execution_count": null,
      "outputs": []
    },
    {
      "cell_type": "code",
      "source": [
        "rs = 5138"
      ],
      "metadata": {
        "id": "JPfD-9WWbJ3Y"
      },
      "execution_count": null,
      "outputs": []
    },
    {
      "cell_type": "code",
      "source": [
        "data = pd.read_csv('/content/TestData.csv')\n",
        "data.head(2)"
      ],
      "metadata": {
        "id": "HDZniGdybMCG",
        "colab": {
          "base_uri": "https://localhost:8080/",
          "height": 112
        },
        "outputId": "b452cc75-b6f2-4801-df38-16266fee3337"
      },
      "execution_count": null,
      "outputs": [
        {
          "output_type": "execute_result",
          "data": {
            "text/plain": [
              "      CaO     SiO  Na2O   K2O     H20      FA       CA  Total Binder  DRCM  \\\n",
              "0  223.77  206.53  0.77  7.86  196.14  725.35  1110.16        560.40  1.10   \n",
              "1  174.04  160.64  0.60  6.11  196.14  692.93  1110.16        435.87  1.42   \n",
              "\n",
              "   Strength  \n",
              "0      45.7  \n",
              "1      40.9  "
            ],
            "text/html": [
              "\n",
              "\n",
              "  <div id=\"df-4c7a341d-b818-4585-affb-0fb696e896b4\">\n",
              "    <div class=\"colab-df-container\">\n",
              "      <div>\n",
              "<style scoped>\n",
              "    .dataframe tbody tr th:only-of-type {\n",
              "        vertical-align: middle;\n",
              "    }\n",
              "\n",
              "    .dataframe tbody tr th {\n",
              "        vertical-align: top;\n",
              "    }\n",
              "\n",
              "    .dataframe thead th {\n",
              "        text-align: right;\n",
              "    }\n",
              "</style>\n",
              "<table border=\"1\" class=\"dataframe\">\n",
              "  <thead>\n",
              "    <tr style=\"text-align: right;\">\n",
              "      <th></th>\n",
              "      <th>CaO</th>\n",
              "      <th>SiO</th>\n",
              "      <th>Na2O</th>\n",
              "      <th>K2O</th>\n",
              "      <th>H20</th>\n",
              "      <th>FA</th>\n",
              "      <th>CA</th>\n",
              "      <th>Total Binder</th>\n",
              "      <th>DRCM</th>\n",
              "      <th>Strength</th>\n",
              "    </tr>\n",
              "  </thead>\n",
              "  <tbody>\n",
              "    <tr>\n",
              "      <th>0</th>\n",
              "      <td>223.77</td>\n",
              "      <td>206.53</td>\n",
              "      <td>0.77</td>\n",
              "      <td>7.86</td>\n",
              "      <td>196.14</td>\n",
              "      <td>725.35</td>\n",
              "      <td>1110.16</td>\n",
              "      <td>560.40</td>\n",
              "      <td>1.10</td>\n",
              "      <td>45.7</td>\n",
              "    </tr>\n",
              "    <tr>\n",
              "      <th>1</th>\n",
              "      <td>174.04</td>\n",
              "      <td>160.64</td>\n",
              "      <td>0.60</td>\n",
              "      <td>6.11</td>\n",
              "      <td>196.14</td>\n",
              "      <td>692.93</td>\n",
              "      <td>1110.16</td>\n",
              "      <td>435.87</td>\n",
              "      <td>1.42</td>\n",
              "      <td>40.9</td>\n",
              "    </tr>\n",
              "  </tbody>\n",
              "</table>\n",
              "</div>\n",
              "      <button class=\"colab-df-convert\" onclick=\"convertToInteractive('df-4c7a341d-b818-4585-affb-0fb696e896b4')\"\n",
              "              title=\"Convert this dataframe to an interactive table.\"\n",
              "              style=\"display:none;\">\n",
              "\n",
              "  <svg xmlns=\"http://www.w3.org/2000/svg\" height=\"24px\"viewBox=\"0 0 24 24\"\n",
              "       width=\"24px\">\n",
              "    <path d=\"M0 0h24v24H0V0z\" fill=\"none\"/>\n",
              "    <path d=\"M18.56 5.44l.94 2.06.94-2.06 2.06-.94-2.06-.94-.94-2.06-.94 2.06-2.06.94zm-11 1L8.5 8.5l.94-2.06 2.06-.94-2.06-.94L8.5 2.5l-.94 2.06-2.06.94zm10 10l.94 2.06.94-2.06 2.06-.94-2.06-.94-.94-2.06-.94 2.06-2.06.94z\"/><path d=\"M17.41 7.96l-1.37-1.37c-.4-.4-.92-.59-1.43-.59-.52 0-1.04.2-1.43.59L10.3 9.45l-7.72 7.72c-.78.78-.78 2.05 0 2.83L4 21.41c.39.39.9.59 1.41.59.51 0 1.02-.2 1.41-.59l7.78-7.78 2.81-2.81c.8-.78.8-2.07 0-2.86zM5.41 20L4 18.59l7.72-7.72 1.47 1.35L5.41 20z\"/>\n",
              "  </svg>\n",
              "      </button>\n",
              "\n",
              "\n",
              "\n",
              "    <div id=\"df-e0629089-4ee5-4da1-aa7a-b524761aa190\">\n",
              "      <button class=\"colab-df-quickchart\" onclick=\"quickchart('df-e0629089-4ee5-4da1-aa7a-b524761aa190')\"\n",
              "              title=\"Suggest charts.\"\n",
              "              style=\"display:none;\">\n",
              "\n",
              "<svg xmlns=\"http://www.w3.org/2000/svg\" height=\"24px\"viewBox=\"0 0 24 24\"\n",
              "     width=\"24px\">\n",
              "    <g>\n",
              "        <path d=\"M19 3H5c-1.1 0-2 .9-2 2v14c0 1.1.9 2 2 2h14c1.1 0 2-.9 2-2V5c0-1.1-.9-2-2-2zM9 17H7v-7h2v7zm4 0h-2V7h2v10zm4 0h-2v-4h2v4z\"/>\n",
              "    </g>\n",
              "</svg>\n",
              "      </button>\n",
              "    </div>\n",
              "\n",
              "<style>\n",
              "  .colab-df-quickchart {\n",
              "    background-color: #E8F0FE;\n",
              "    border: none;\n",
              "    border-radius: 50%;\n",
              "    cursor: pointer;\n",
              "    display: none;\n",
              "    fill: #1967D2;\n",
              "    height: 32px;\n",
              "    padding: 0 0 0 0;\n",
              "    width: 32px;\n",
              "  }\n",
              "\n",
              "  .colab-df-quickchart:hover {\n",
              "    background-color: #E2EBFA;\n",
              "    box-shadow: 0px 1px 2px rgba(60, 64, 67, 0.3), 0px 1px 3px 1px rgba(60, 64, 67, 0.15);\n",
              "    fill: #174EA6;\n",
              "  }\n",
              "\n",
              "  [theme=dark] .colab-df-quickchart {\n",
              "    background-color: #3B4455;\n",
              "    fill: #D2E3FC;\n",
              "  }\n",
              "\n",
              "  [theme=dark] .colab-df-quickchart:hover {\n",
              "    background-color: #434B5C;\n",
              "    box-shadow: 0px 1px 3px 1px rgba(0, 0, 0, 0.15);\n",
              "    filter: drop-shadow(0px 1px 2px rgba(0, 0, 0, 0.3));\n",
              "    fill: #FFFFFF;\n",
              "  }\n",
              "</style>\n",
              "\n",
              "    <script>\n",
              "      async function quickchart(key) {\n",
              "        const containerElement = document.querySelector('#' + key);\n",
              "        const charts = await google.colab.kernel.invokeFunction(\n",
              "            'suggestCharts', [key], {});\n",
              "      }\n",
              "    </script>\n",
              "\n",
              "      <script>\n",
              "\n",
              "function displayQuickchartButton(domScope) {\n",
              "  let quickchartButtonEl =\n",
              "    domScope.querySelector('#df-e0629089-4ee5-4da1-aa7a-b524761aa190 button.colab-df-quickchart');\n",
              "  quickchartButtonEl.style.display =\n",
              "    google.colab.kernel.accessAllowed ? 'block' : 'none';\n",
              "}\n",
              "\n",
              "        displayQuickchartButton(document);\n",
              "      </script>\n",
              "      <style>\n",
              "    .colab-df-container {\n",
              "      display:flex;\n",
              "      flex-wrap:wrap;\n",
              "      gap: 12px;\n",
              "    }\n",
              "\n",
              "    .colab-df-convert {\n",
              "      background-color: #E8F0FE;\n",
              "      border: none;\n",
              "      border-radius: 50%;\n",
              "      cursor: pointer;\n",
              "      display: none;\n",
              "      fill: #1967D2;\n",
              "      height: 32px;\n",
              "      padding: 0 0 0 0;\n",
              "      width: 32px;\n",
              "    }\n",
              "\n",
              "    .colab-df-convert:hover {\n",
              "      background-color: #E2EBFA;\n",
              "      box-shadow: 0px 1px 2px rgba(60, 64, 67, 0.3), 0px 1px 3px 1px rgba(60, 64, 67, 0.15);\n",
              "      fill: #174EA6;\n",
              "    }\n",
              "\n",
              "    [theme=dark] .colab-df-convert {\n",
              "      background-color: #3B4455;\n",
              "      fill: #D2E3FC;\n",
              "    }\n",
              "\n",
              "    [theme=dark] .colab-df-convert:hover {\n",
              "      background-color: #434B5C;\n",
              "      box-shadow: 0px 1px 3px 1px rgba(0, 0, 0, 0.15);\n",
              "      filter: drop-shadow(0px 1px 2px rgba(0, 0, 0, 0.3));\n",
              "      fill: #FFFFFF;\n",
              "    }\n",
              "  </style>\n",
              "\n",
              "      <script>\n",
              "        const buttonEl =\n",
              "          document.querySelector('#df-4c7a341d-b818-4585-affb-0fb696e896b4 button.colab-df-convert');\n",
              "        buttonEl.style.display =\n",
              "          google.colab.kernel.accessAllowed ? 'block' : 'none';\n",
              "\n",
              "        async function convertToInteractive(key) {\n",
              "          const element = document.querySelector('#df-4c7a341d-b818-4585-affb-0fb696e896b4');\n",
              "          const dataTable =\n",
              "            await google.colab.kernel.invokeFunction('convertToInteractive',\n",
              "                                                     [key], {});\n",
              "          if (!dataTable) return;\n",
              "\n",
              "          const docLinkHtml = 'Like what you see? Visit the ' +\n",
              "            '<a target=\"_blank\" href=https://colab.research.google.com/notebooks/data_table.ipynb>data table notebook</a>'\n",
              "            + ' to learn more about interactive tables.';\n",
              "          element.innerHTML = '';\n",
              "          dataTable['output_type'] = 'display_data';\n",
              "          await google.colab.output.renderOutput(dataTable, element);\n",
              "          const docLink = document.createElement('div');\n",
              "          docLink.innerHTML = docLinkHtml;\n",
              "          element.appendChild(docLink);\n",
              "        }\n",
              "      </script>\n",
              "    </div>\n",
              "  </div>\n"
            ]
          },
          "metadata": {},
          "execution_count": 423
        }
      ]
    },
    {
      "cell_type": "code",
      "source": [
        "def fraction_df(data):\n",
        "  datfr = pd.DataFrame()\n",
        "  datfr['C/B'] = data['CaO']/data['Total Binder']\n",
        "  datfr['S/B'] = data['SiO']/data['Total Binder']\n",
        "  datfr['H/B'] = data['H20']/data['Total Binder']\n",
        "  datfr['A/B'] = (data['Na2O']+data['K2O'])/data['Total Binder']\n",
        "  datfr['F/T'] = data['FA']/(data['FA']+data['CA'])\n",
        "  datfr['C/T'] = data['CA']/(data['FA']+data['CA'])\n",
        "\n",
        "  return datfr"
      ],
      "metadata": {
        "id": "DME7ESCji9kA"
      },
      "execution_count": null,
      "outputs": []
    },
    {
      "cell_type": "code",
      "source": [
        "def f_val_min_max(data, features:list, change_pc=0):\n",
        "  '''function to get the minimum and maximum value of a feature'''\n",
        "  n_f = len(features)\n",
        "  min_reduce = 1-change_pc/100\n",
        "  max_increase = 1+change_pc/100\n",
        "  min_vals = []\n",
        "  max_vals = []\n",
        "  for i in range(n_f):\n",
        "    min_vals.append(min_reduce*min(data[features[i]]))\n",
        "    max_vals.append(max_increase*max(data[features[i]]))\n",
        "\n",
        "  return min_vals, max_vals"
      ],
      "metadata": {
        "id": "2eQ5fA2FIv-a"
      },
      "execution_count": null,
      "outputs": []
    },
    {
      "cell_type": "code",
      "source": [
        "dat = fraction_df(data)\n",
        "datfr = pd.concat([dat, data['DRCM'], data['Strength']], axis = 1)"
      ],
      "metadata": {
        "id": "Gd5DkNvBjAuH"
      },
      "execution_count": null,
      "outputs": []
    },
    {
      "cell_type": "code",
      "source": [
        "data1 = datfr[['C/B', 'S/B', 'H/B', 'A/B', 'F/T', 'C/T', 'DRCM']]\n",
        "data2 = datfr[['C/B', 'S/B', 'H/B', 'A/B', 'F/T', 'C/T','Strength']]\n",
        "features = ['CaO', 'SiO', 'Na2O', 'K2O', 'H20', 'FA', 'CA', 'Total Binder']\n",
        "n_f = len(features)"
      ],
      "metadata": {
        "id": "Grm3ggO1jJBi"
      },
      "execution_count": null,
      "outputs": []
    },
    {
      "cell_type": "code",
      "source": [
        "#Diffusion Coefficient Split\n",
        "output_d = ['DRCM']\n",
        "Input_d = ['C/B', 'S/B', 'H/B', 'A/B', 'F/T', 'C/T']\n",
        "\n",
        "Xd = data1[Input_d]\n",
        "yd = data1[output_d]\n",
        "\n",
        "D_train, D_test, yd_train, yd_test = train_test_split(Xd, yd, random_state = rs)"
      ],
      "metadata": {
        "id": "j6bf0tzYcwZ4"
      },
      "execution_count": null,
      "outputs": []
    },
    {
      "cell_type": "code",
      "source": [
        "#Diffusion Coefficient Train\n",
        "rfr_d = rfr(max_depth = 12)#, min_samples_split=4, n_estimators=66, random_state=rs)\n",
        "rfr_d.fit(D_train, yd_train)\n",
        "\n",
        "test(rfr_d, D_test, yd_test)\n",
        "\n",
        "r = rfr_d.predict(D_test)\n",
        "s = np.array(yd_test[\"DRCM\"])\n",
        "l = []\n",
        "for i in r:\n",
        "  l.append(float(i))\n",
        "\n",
        "abs(s - np.array(l))/s*100"
      ],
      "metadata": {
        "colab": {
          "base_uri": "https://localhost:8080/"
        },
        "id": "GnOkvLV_c_I9",
        "outputId": "b54aa736-be5e-4926-f603-201ad679b185"
      },
      "execution_count": null,
      "outputs": [
        {
          "output_type": "stream",
          "name": "stdout",
          "text": [
            "RandomForestRegressor(max_depth=12)\n",
            "\n",
            "prediction 1:\n",
            " [ 2.58939897  6.4095      3.3017      5.0261     12.7179      4.25151143\n",
            "  6.6065     13.6868      7.3779      5.04955     1.8546      2.53199754\n",
            "  6.91855     3.59975     5.9186      4.9762      1.8068      1.7545\n",
            "  6.5588     12.9861      5.8157      7.8892      5.9945     10.766\n",
            "  3.0666      4.60345     7.1791     10.5297    ]\n",
            "\n",
            "Score for prediction\n",
            "R square score: 0.7260780491999724\n",
            "Max error: 5.9639999999999915\n",
            "\n",
            "-------------------------------------\n"
          ]
        },
        {
          "output_type": "stream",
          "name": "stderr",
          "text": [
            "<ipython-input-429-5c1575e6a04d>:3: DataConversionWarning: A column-vector y was passed when a 1d array was expected. Please change the shape of y to (n_samples,), for example using ravel().\n",
            "  rfr_d.fit(D_train, yd_train)\n"
          ]
        },
        {
          "output_type": "execute_result",
          "data": {
            "text/plain": [
              "array([ 4.83396633, 20.96794081, 32.75560081, 10.70704846, 47.53944316,\n",
              "       52.39068949, 19.68297101,  1.53412463,  5.39857143,  2.42494929,\n",
              "       13.7791411 ,  0.07895414, 53.06526549,  2.70945946, 27.55691554,\n",
              "        8.17826087,  1.26775956, 16.19205298, 19.91697192,  3.16107383,\n",
              "       14.09601182, 24.8647619 , 10.66318927, 35.64853556, 12.38285714,\n",
              "       17.64847943, 32.45571956, 19.43611324])"
            ]
          },
          "metadata": {},
          "execution_count": 429
        }
      ]
    },
    {
      "cell_type": "code",
      "source": [
        "#Strength Split\n",
        "output_s = ['Strength']\n",
        "Input_s = ['C/B', 'S/B', 'H/B', 'A/B', 'F/T', 'C/T']\n",
        "\n",
        "Xs = data2[Input_s]\n",
        "ys = data2[output_s]\n",
        "\n",
        "S_train, S_test, ys_train, ys_test = train_test_split(Xs, ys, random_state = rs)"
      ],
      "metadata": {
        "id": "gWYRSCfrh0Dl"
      },
      "execution_count": null,
      "outputs": []
    },
    {
      "cell_type": "code",
      "source": [
        "#Strength Train\n",
        "rfr_s = rfr(max_depth = 30)#12, n_estimators=106, min_samples_split=4, random_state=rs)\n",
        "rfr_s.fit(S_train, ys_train)\n",
        "\n",
        "test(rfr_s, S_test, ys_test)\n",
        "\n",
        "r = rfr_s.predict(S_test)\n",
        "s = np.array(ys_test['Strength'])\n",
        "l = []\n",
        "for i in r:\n",
        "  l.append(float(i))\n",
        "\n",
        "abs(s - np.array(l))/s*100"
      ],
      "metadata": {
        "colab": {
          "base_uri": "https://localhost:8080/"
        },
        "id": "M1_Tcz-kmbQN",
        "outputId": "52674ec1-f4ea-4831-e50a-ba670c30818e"
      },
      "execution_count": null,
      "outputs": [
        {
          "output_type": "stream",
          "name": "stderr",
          "text": [
            "<ipython-input-431-3d6495b4d057>:3: DataConversionWarning: A column-vector y was passed when a 1d array was expected. Please change the shape of y to (n_samples,), for example using ravel().\n",
            "  rfr_s.fit(S_train, ys_train)\n"
          ]
        },
        {
          "output_type": "stream",
          "name": "stdout",
          "text": [
            "RandomForestRegressor(max_depth=30)\n",
            "\n",
            "prediction 1:\n",
            " [47.842  45.5163 34.8758 51.6549 27.8702 45.9503 34.4838 25.6769 35.2095\n",
            " 50.2609 38.0134 46.5821 34.5635 49.6682 45.5163 51.8547 37.5926 37.3985\n",
            " 34.0789 21.3344 45.8268 22.5946 45.8268 24.6801 36.3865 36.0276 36.9168\n",
            " 34.3304]\n",
            "\n",
            "Score for prediction\n",
            "R square score: 0.7558768525434861\n",
            "Max error: 13.336500000000001\n",
            "\n",
            "-------------------------------------\n"
          ]
        },
        {
          "output_type": "execute_result",
          "data": {
            "text/plain": [
              "array([7.93650794e-02, 7.57811392e+00, 4.00634538e+01, 5.22036697e+00,\n",
              "       1.66605274e+01, 6.12078522e+00, 2.10897025e+01, 4.91109175e+01,\n",
              "       1.69587264e+01, 1.39121052e+00, 4.53691612e+00, 1.55243078e+00,\n",
              "       2.78423800e+01, 4.64529058e-01, 7.27386283e+00, 5.04541293e+00,\n",
              "       3.16177228e+00, 1.67071269e+01, 6.63315068e+00, 2.86595950e+00,\n",
              "       6.98232599e-03, 2.49010503e+01, 2.55523955e-01, 5.04001539e+00,\n",
              "       8.94161677e+00, 2.31712821e+01, 8.38755138e+00, 2.02545877e+01])"
            ]
          },
          "metadata": {},
          "execution_count": 431
        }
      ]
    },
    {
      "cell_type": "code",
      "source": [
        "def predict(model, X):\n",
        "  td = pd.DataFrame(X, columns = features)\n",
        "  tp = fraction_df(td)\n",
        "  r = model.predict(tp)\n",
        "  return r"
      ],
      "metadata": {
        "id": "FqlMXJXwToIR"
      },
      "execution_count": null,
      "outputs": []
    },
    {
      "cell_type": "code",
      "source": [
        "a = [3.79414979e+02, 1.37046136e+02, 8.96115747e-01, 5.69255123e+00, 2.01175068e+02, 6.37779876e+02, 1.12112352e+03, 6.03947398e+02]"
      ],
      "metadata": {
        "id": "NfnWX7E0csWj"
      },
      "execution_count": null,
      "outputs": []
    },
    {
      "cell_type": "code",
      "source": [
        "predict(rfr_s, [a])"
      ],
      "metadata": {
        "colab": {
          "base_uri": "https://localhost:8080/"
        },
        "id": "H7vNlvJ5czte",
        "outputId": "02b27856-d8ed-4911-a84b-cc8b7b47a860"
      },
      "execution_count": null,
      "outputs": [
        {
          "output_type": "execute_result",
          "data": {
            "text/plain": [
              "array([51.3409])"
            ]
          },
          "metadata": {},
          "execution_count": 434
        }
      ]
    },
    {
      "cell_type": "code",
      "source": [
        "def mass_of_material(M_CaO, M_SiO2, M_K2O, fa=True, s=True):\n",
        "\n",
        "  if fa==False:\n",
        "    mass = [M_CaO, M_SiO2]\n",
        "    Cmax = [np.array([65.59, 48.59]),np.array([19.59, 32.59/100])]   #Cement, Slag\n",
        "  elif s==False:\n",
        "    mass = [M_CaO, M_SiO2]\n",
        "    Cmax = ([np.array([65.59, 1.44])/100, np.array([19.59, 62.75])/100])   #Cement, Flyash\n",
        "  else:\n",
        "    mass = [M_CaO, M_SiO2, M_K2O]\n",
        "    Cmax = [np.array([65.59, 1.44, 48.59])/100 ,np.array([19.59, 62.75, 32.59])/100, np.array([0.57, 2.65, 0.38])/100]   #Cement, Flyash, Slag\n",
        "\n",
        "  mass_m = np.linalg.solve(Cmax, mass)\n",
        "  return mass_m"
      ],
      "metadata": {
        "id": "A72cBFS_8CFE"
      },
      "execution_count": null,
      "outputs": []
    },
    {
      "cell_type": "code",
      "source": [
        "tdc = 4.9#4.51\n",
        "tstr = 51#43.2\n",
        "wc_ratio = 0.35"
      ],
      "metadata": {
        "id": "ODPwR7hVIzN4"
      },
      "execution_count": null,
      "outputs": []
    },
    {
      "cell_type": "code",
      "source": [
        "from pymoo.core.problem import ElementwiseProblem\n",
        "\n",
        "class functions(ElementwiseProblem):\n",
        "\n",
        "    def __init__(self):\n",
        "        super().__init__(n_var=n_f,\n",
        "                         n_obj=2,\n",
        "                         n_ieq_constr=1,\n",
        "                         n_eq_constr=0,\n",
        "                         #'CaO', 'SiO', 'Na2O', 'K2O', 'H20', 'FA', 'CA', 'Total Binder'\n",
        "                         xl = f_val_min_max(data, features, change_pc=2)[0],\n",
        "                         xu = f_val_min_max(data, features, change_pc=2)[1]\n",
        "                         )\n",
        "\n",
        "\n",
        "    def _evaluate(self, x, out, *args, **kwargs):\n",
        "\n",
        "        Xt = []\n",
        "\n",
        "        for i in range(n_f):\n",
        "          Xt.append(x[i])\n",
        "\n",
        "        f1 = abs(predict(rfr_d, [Xt]) - tdc)\n",
        "        f2 = abs(predict(rfr_s, [Xt]) - tstr)\n",
        "\n",
        "        g1 = x[7] - np.sum(mass_of_material(x[0], x[1], x[3], fa=True, s=True))\n",
        "        #g2 = -(x[4]/x[7] - 0.99*wc_ratio)\n",
        "        #g3 = (x[4]/x[7] - 1.01*wc_ratio)\n",
        "\n",
        "        out[\"F\"] = [f1, f2]\n",
        "        out[\"G\"] = [g1]#g2, g3]\n",
        "\n",
        "problem = functions()\n",
        "\n",
        "from pymoo.algorithms.moo.nsga2 import NSGA2\n",
        "from pymoo.operators.crossover.sbx import SBX\n",
        "from pymoo.operators.mutation.pm import PM\n",
        "from pymoo.operators.sampling.rnd import FloatRandomSampling\n",
        "\n",
        "algorithm = NSGA2(\n",
        "    pop_size=50,\n",
        "    n_offsprings=30,\n",
        "    sampling=FloatRandomSampling(),\n",
        "    crossover=SBX(prob=0.7, eta=5),\n",
        "    mutation=PM(eta=5),\n",
        "    eliminate_duplicates=True\n",
        ")\n",
        "\n",
        "from pymoo.termination import get_termination\n",
        "\n",
        "termination = get_termination(\"n_gen\", 50)"
      ],
      "metadata": {
        "id": "91t5S1ISJoBf"
      },
      "execution_count": null,
      "outputs": []
    },
    {
      "cell_type": "code",
      "source": [
        "from pymoo.optimize import minimize\n",
        "\n",
        "res = minimize(problem,\n",
        "               algorithm,\n",
        "               termination,\n",
        "               seed=rs,\n",
        "               save_history=True,\n",
        "               verbose=True)\n",
        "\n",
        "X = res.X\n",
        "F = res.F"
      ],
      "metadata": {
        "colab": {
          "base_uri": "https://localhost:8080/"
        },
        "id": "Y-MEDcquJ8dT",
        "outputId": "bc8039c8-9a65-4606-a419-e74e399dbce6"
      },
      "execution_count": null,
      "outputs": [
        {
          "output_type": "stream",
          "name": "stdout",
          "text": [
            "==========================================================================================\n",
            "n_gen  |  n_eval  | n_nds  |     cv_min    |     cv_avg    |      eps      |   indicator  \n",
            "==========================================================================================\n",
            "     1 |       50 |      3 |  0.000000E+00 |  4.455689E+01 |             - |             -\n",
            "     2 |       80 |      4 |  0.000000E+00 |  0.000000E+00 |  0.0105736629 |         ideal\n",
            "     3 |      110 |      6 |  0.000000E+00 |  0.000000E+00 |  0.0564360444 |             f\n",
            "     4 |      140 |      6 |  0.000000E+00 |  0.000000E+00 |  0.0268724074 |             f\n",
            "     5 |      170 |      6 |  0.000000E+00 |  0.000000E+00 |  0.0151515152 |         ideal\n",
            "     6 |      200 |      5 |  0.000000E+00 |  0.000000E+00 |  0.0211628275 |             f\n",
            "     7 |      230 |      9 |  0.000000E+00 |  0.000000E+00 |  0.0124372721 |         ideal\n",
            "     8 |      260 |     10 |  0.000000E+00 |  0.000000E+00 |  0.0237008849 |         nadir\n",
            "     9 |      290 |     13 |  0.000000E+00 |  0.000000E+00 |  0.000000E+00 |             f\n",
            "    10 |      320 |     17 |  0.000000E+00 |  0.000000E+00 |  0.0025303788 |             f\n",
            "    11 |      350 |     19 |  0.000000E+00 |  0.000000E+00 |  0.0044663284 |             f\n",
            "    12 |      380 |     20 |  0.000000E+00 |  0.000000E+00 |  0.0029293694 |             f\n",
            "    13 |      410 |     17 |  0.000000E+00 |  0.000000E+00 |  0.0015250482 |             f\n",
            "    14 |      440 |     16 |  0.000000E+00 |  0.000000E+00 |  0.0176386794 |         ideal\n",
            "    15 |      470 |     19 |  0.000000E+00 |  0.000000E+00 |  0.0007321669 |             f\n",
            "    16 |      500 |     21 |  0.000000E+00 |  0.000000E+00 |  0.0033706040 |         nadir\n",
            "    17 |      530 |     24 |  0.000000E+00 |  0.000000E+00 |  0.0051852151 |             f\n",
            "    18 |      560 |     25 |  0.000000E+00 |  0.000000E+00 |  0.0060220120 |             f\n",
            "    19 |      590 |     24 |  0.000000E+00 |  0.000000E+00 |  0.0017802033 |             f\n",
            "    20 |      620 |     30 |  0.000000E+00 |  0.000000E+00 |  0.0075216279 |             f\n",
            "    21 |      650 |     29 |  0.000000E+00 |  0.000000E+00 |  0.0014672162 |             f\n",
            "    22 |      680 |     31 |  0.000000E+00 |  0.000000E+00 |  0.0013725571 |             f\n",
            "    23 |      710 |     35 |  0.000000E+00 |  0.000000E+00 |  0.0012156934 |             f\n",
            "    24 |      740 |     25 |  0.000000E+00 |  0.000000E+00 |  0.0041722296 |         ideal\n",
            "    25 |      770 |     27 |  0.000000E+00 |  0.000000E+00 |  0.000000E+00 |             f\n",
            "    26 |      800 |     29 |  0.000000E+00 |  0.000000E+00 |  0.0071251036 |         nadir\n",
            "    27 |      830 |     33 |  0.000000E+00 |  0.000000E+00 |  0.0031795846 |         ideal\n",
            "    28 |      860 |     36 |  0.000000E+00 |  0.000000E+00 |  0.000000E+00 |             f\n",
            "    29 |      890 |     17 |  0.000000E+00 |  0.000000E+00 |  0.0071532543 |         nadir\n",
            "    30 |      920 |     21 |  0.000000E+00 |  0.000000E+00 |  0.0085940786 |             f\n",
            "    31 |      950 |     22 |  0.000000E+00 |  0.000000E+00 |  0.0026700917 |             f\n",
            "    32 |      980 |     10 |  0.000000E+00 |  0.000000E+00 |  0.0002667432 |             f\n",
            "    33 |     1010 |     11 |  0.000000E+00 |  0.000000E+00 |  0.0083470697 |             f\n",
            "    34 |     1040 |     13 |  0.000000E+00 |  0.000000E+00 |  0.0027383259 |             f\n",
            "    35 |     1070 |     17 |  0.000000E+00 |  0.000000E+00 |  0.0155289310 |             f\n",
            "    36 |     1100 |     20 |  0.000000E+00 |  0.000000E+00 |  0.0308914387 |         nadir\n",
            "    37 |     1130 |     20 |  0.000000E+00 |  0.000000E+00 |  3.6791828794 |         nadir\n",
            "    38 |     1160 |     23 |  0.000000E+00 |  0.000000E+00 |  0.000000E+00 |             f\n",
            "    39 |     1190 |     18 |  0.000000E+00 |  0.000000E+00 |  0.0094430526 |         ideal\n",
            "    40 |     1220 |     17 |  0.000000E+00 |  0.000000E+00 |  0.0065103865 |             f\n",
            "    41 |     1250 |     19 |  0.000000E+00 |  0.000000E+00 |  0.0004868599 |             f\n",
            "    42 |     1280 |     13 |  0.000000E+00 |  0.000000E+00 |  0.0085182380 |             f\n",
            "    43 |     1310 |     14 |  0.000000E+00 |  0.000000E+00 |  0.0093367049 |         nadir\n",
            "    44 |     1340 |     15 |  0.000000E+00 |  0.000000E+00 |  0.0004803340 |             f\n",
            "    45 |     1370 |     16 |  0.000000E+00 |  0.000000E+00 |  0.0031777589 |             f\n",
            "    46 |     1400 |     19 |  0.000000E+00 |  0.000000E+00 |  0.0202189160 |         nadir\n",
            "    47 |     1430 |     21 |  0.000000E+00 |  0.000000E+00 |  0.0037733420 |             f\n",
            "    48 |     1460 |     21 |  0.000000E+00 |  0.000000E+00 |  0.0047195715 |             f\n",
            "    49 |     1490 |     21 |  0.000000E+00 |  0.000000E+00 |  0.0013512943 |             f\n",
            "    50 |     1520 |     21 |  0.000000E+00 |  0.000000E+00 |  0.0013512943 |             f\n"
          ]
        }
      ]
    },
    {
      "cell_type": "code",
      "source": [
        "X"
      ],
      "metadata": {
        "colab": {
          "base_uri": "https://localhost:8080/"
        },
        "id": "OUa8fJB_NorR",
        "outputId": "2eef7a88-f610-47db-dcd5-020bbbb3dcee"
      },
      "execution_count": null,
      "outputs": [
        {
          "output_type": "execute_result",
          "data": {
            "text/plain": [
              "array([[3.89085282e+02, 1.41216076e+02, 7.04957616e-01, 6.66084893e+00,\n",
              "        1.94260171e+02, 5.44270929e+02, 9.67606262e+02, 5.93325621e+02],\n",
              "       [3.88557521e+02, 1.46902127e+02, 6.92487210e-01, 6.66084893e+00,\n",
              "        1.94439837e+02, 5.50272604e+02, 9.67606262e+02, 5.99640132e+02],\n",
              "       [3.86431381e+02, 1.46585964e+02, 5.26572209e-01, 6.66084893e+00,\n",
              "        1.96274468e+02, 5.93786070e+02, 1.07118936e+03, 5.99106129e+02],\n",
              "       [3.97016393e+02, 1.45078016e+02, 5.93847198e-01, 6.69987311e+00,\n",
              "        1.93564601e+02, 5.93786070e+02, 1.04496158e+03, 5.99106129e+02],\n",
              "       [3.94549793e+02, 1.49443416e+02, 7.06138871e-01, 4.63878156e+00,\n",
              "        1.97233820e+02, 5.44270929e+02, 9.67606262e+02, 5.99105713e+02],\n",
              "       [3.85935463e+02, 1.44062090e+02, 5.23476852e-01, 8.22074586e+00,\n",
              "        2.08828179e+02, 6.26946998e+02, 9.91366441e+02, 5.99726009e+02],\n",
              "       [3.97849748e+02, 1.49438950e+02, 6.60053591e-01, 4.81047191e+00,\n",
              "        1.94436531e+02, 5.93786070e+02, 1.04464012e+03, 5.99106129e+02],\n",
              "       [3.91646227e+02, 1.45078016e+02, 3.15994186e-01, 6.69987311e+00,\n",
              "        1.93582416e+02, 5.93786070e+02, 1.04500066e+03, 5.99106129e+02],\n",
              "       [3.97732868e+02, 1.49546534e+02, 6.75851334e-01, 4.81047191e+00,\n",
              "        1.94436531e+02, 5.93786070e+02, 1.04464012e+03, 5.99106129e+02],\n",
              "       [3.85935463e+02, 1.47104503e+02, 6.23273530e-01, 8.22074586e+00,\n",
              "        2.20340566e+02, 6.27025328e+02, 9.91366441e+02, 5.99122798e+02],\n",
              "       [3.85935463e+02, 1.47104503e+02, 5.52830506e-01, 8.22074586e+00,\n",
              "        2.20340566e+02, 6.27025328e+02, 9.91366441e+02, 5.99122798e+02],\n",
              "       [3.97733827e+02, 1.49546534e+02, 6.75851334e-01, 4.84181453e+00,\n",
              "        1.94437238e+02, 5.93786070e+02, 1.04464012e+03, 5.99106129e+02],\n",
              "       [3.85865751e+02, 1.41487057e+02, 9.50272468e-01, 5.85404989e+00,\n",
              "        1.94346435e+02, 5.99047732e+02, 1.04155302e+03, 5.93325621e+02],\n",
              "       [3.98023135e+02, 1.45078016e+02, 5.93847198e-01, 6.69987311e+00,\n",
              "        1.93564601e+02, 5.93786070e+02, 1.04511977e+03, 5.99106129e+02],\n",
              "       [3.98504300e+02, 1.47152732e+02, 5.26576482e-01, 6.62264797e+00,\n",
              "        2.09551749e+02, 6.07330054e+02, 1.06958173e+03, 5.99798006e+02],\n",
              "       [3.85865762e+02, 1.42563499e+02, 9.50272468e-01, 5.85404989e+00,\n",
              "        1.94346435e+02, 5.99752309e+02, 1.04155302e+03, 5.93309264e+02],\n",
              "       [3.91646227e+02, 1.44844024e+02, 3.15994186e-01, 6.69987311e+00,\n",
              "        1.93582416e+02, 5.93786070e+02, 1.04500066e+03, 5.98910587e+02],\n",
              "       [3.95848267e+02, 1.49443416e+02, 1.08251019e+00, 4.63878156e+00,\n",
              "        1.97233820e+02, 5.44270929e+02, 9.67606262e+02, 5.99105713e+02],\n",
              "       [3.85865751e+02, 1.41721050e+02, 9.50272468e-01, 5.85404989e+00,\n",
              "        1.94346435e+02, 5.99047732e+02, 1.04155302e+03, 5.93521162e+02],\n",
              "       [3.92179651e+02, 1.47104503e+02, 7.10217064e-01, 6.40265741e+00,\n",
              "        1.99397121e+02, 5.91897130e+02, 1.04466679e+03, 5.99103402e+02],\n",
              "       [3.87786807e+02, 1.41216076e+02, 7.04957616e-01, 6.66084893e+00,\n",
              "        1.94260171e+02, 5.44270929e+02, 9.67606262e+02, 5.93325621e+02]])"
            ]
          },
          "metadata": {},
          "execution_count": 439
        }
      ]
    },
    {
      "cell_type": "code",
      "source": [
        "F"
      ],
      "metadata": {
        "colab": {
          "base_uri": "https://localhost:8080/"
        },
        "id": "M4nLGXVKNpp3",
        "outputId": "441b3244-5075-4a5c-a2b0-1dfab8766586"
      },
      "execution_count": null,
      "outputs": [
        {
          "output_type": "execute_result",
          "data": {
            "text/plain": [
              "array([[9.1700e-02, 9.2300e-02],\n",
              "       [1.0390e-01, 7.3500e-02],\n",
              "       [1.1800e-01, 1.1400e-02],\n",
              "       [5.1520e-01, 1.2000e-03],\n",
              "       [2.4730e-01, 1.0400e-02],\n",
              "       [1.2000e-03, 9.6800e-01],\n",
              "       [2.5080e-01, 2.2000e-03],\n",
              "       [1.0390e-01, 7.3500e-02],\n",
              "       [2.5080e-01, 2.2000e-03],\n",
              "       [1.1000e-03, 3.4089e+00],\n",
              "       [1.1000e-03, 3.4089e+00],\n",
              "       [2.5080e-01, 2.2000e-03],\n",
              "       [1.7800e-02, 1.3790e-01],\n",
              "       [5.1520e-01, 1.2000e-03],\n",
              "       [5.1520e-01, 1.2000e-03],\n",
              "       [1.6000e-03, 1.5470e-01],\n",
              "       [1.0390e-01, 7.3500e-02],\n",
              "       [2.4730e-01, 1.0400e-02],\n",
              "       [1.7800e-02, 1.3790e-01],\n",
              "       [1.0330e-01, 7.8300e-02],\n",
              "       [9.1700e-02, 9.2300e-02]])"
            ]
          },
          "metadata": {},
          "execution_count": 440
        }
      ]
    },
    {
      "cell_type": "code",
      "source": [
        "def select(F, X):\n",
        "  x = [i[0] for i in F]\n",
        "  y = [i[1] for i in F]\n",
        "  close_val = abs(45 - np.arctan((np.array(y)/tstr)/(np.array(x)/tdc))*360/np.pi/2)\n",
        "  close_val = list(close_val)\n",
        "  indx = close_val.index(min(close_val))\n",
        "  return X[indx]"
      ],
      "metadata": {
        "id": "mf2zH3V0Nq7k"
      },
      "execution_count": null,
      "outputs": []
    },
    {
      "cell_type": "code",
      "source": [
        "select(F, X)"
      ],
      "metadata": {
        "colab": {
          "base_uri": "https://localhost:8080/"
        },
        "id": "btqXGcL7Nr86",
        "outputId": "0cad1fc9-7dea-4329-e711-49c28c79fb61"
      },
      "execution_count": null,
      "outputs": [
        {
          "output_type": "execute_result",
          "data": {
            "text/plain": [
              "array([3.85865751e+02, 1.41487057e+02, 9.50272468e-01, 5.85404989e+00,\n",
              "       1.94346435e+02, 5.99047732e+02, 1.04155302e+03, 5.93325621e+02])"
            ]
          },
          "metadata": {},
          "execution_count": 442
        }
      ]
    },
    {
      "cell_type": "code",
      "source": [],
      "metadata": {
        "id": "TaNwJ8-La9lD"
      },
      "execution_count": null,
      "outputs": []
    }
  ]
}